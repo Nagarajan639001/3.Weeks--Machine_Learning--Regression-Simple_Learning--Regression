{
 "cells": [
  {
   "cell_type": "code",
   "execution_count": 1,
   "id": "4c3e59fc-d599-4a84-aae2-11a7956b0fbd",
   "metadata": {},
   "outputs": [],
   "source": [
    "# Loaded Model showed to End User"
   ]
  },
  {
   "cell_type": "code",
   "execution_count": null,
   "id": "6b4fa2c3-ff77-4fcc-85df-f9a2895ad12a",
   "metadata": {},
   "outputs": [],
   "source": [
    "import pickle"
   ]
  },
  {
   "cell_type": "code",
   "execution_count": 2,
   "id": "dfa58bc0-c458-4231-8230-f71ec9cd61a8",
   "metadata": {},
   "outputs": [
    {
     "name": "stderr",
     "output_type": "stream",
     "text": [
      "C:\\Anaconda3\\Lib\\site-packages\\sklearn\\base.py:493: UserWarning: X does not have valid feature names, but LinearRegression was fitted with feature names\n",
      "  warnings.warn(\n"
     ]
    }
   ],
   "source": [
    "loaded_model=pickle.load(open(\"Finalised_model_Linear.sav\",'rb'))\n",
    "result = loaded_model.predict([[0]])"
   ]
  },
  {
   "cell_type": "code",
   "execution_count": 3,
   "id": "2aca7cee-59a5-402e-b8bb-7b036cf7d34b",
   "metadata": {},
   "outputs": [
    {
     "data": {
      "text/plain": [
       "array([[26777.3913412]])"
      ]
     },
     "execution_count": 3,
     "metadata": {},
     "output_type": "execute_result"
    }
   ],
   "source": [
    "result"
   ]
  },
  {
   "cell_type": "code",
   "execution_count": null,
   "id": "df625723-f672-4903-a3e7-cebd833cea71",
   "metadata": {},
   "outputs": [],
   "source": []
  },
  {
   "cell_type": "code",
   "execution_count": null,
   "id": "29ea1904-97b4-4ff7-93f0-6d9cb2cea912",
   "metadata": {},
   "outputs": [],
   "source": []
  },
  {
   "cell_type": "code",
   "execution_count": null,
   "id": "f7d5e887-042f-4d3b-956a-fb243d319efa",
   "metadata": {},
   "outputs": [],
   "source": []
  }
 ],
 "metadata": {
  "kernelspec": {
   "display_name": "Python 3 (ipykernel)",
   "language": "python",
   "name": "python3"
  },
  "language_info": {
   "codemirror_mode": {
    "name": "ipython",
    "version": 3
   },
   "file_extension": ".py",
   "mimetype": "text/x-python",
   "name": "python",
   "nbconvert_exporter": "python",
   "pygments_lexer": "ipython3",
   "version": "3.12.4"
  }
 },
 "nbformat": 4,
 "nbformat_minor": 5
}
